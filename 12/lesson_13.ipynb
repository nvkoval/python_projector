{
 "cells": [
  {
   "cell_type": "code",
   "execution_count": 1,
   "metadata": {},
   "outputs": [],
   "source": [
    "def main(value: int):\n",
    "    def first():\n",
    "        return \"First function\"\n",
    "\n",
    "    def second():\n",
    "        return \"Second function\"\n",
    "\n",
    "    if value == 2:\n",
    "        return second\n",
    "\n",
    "    return first\n"
   ]
  },
  {
   "cell_type": "code",
   "execution_count": 2,
   "metadata": {},
   "outputs": [
    {
     "name": "stdout",
     "output_type": "stream",
     "text": [
      "First function\n"
     ]
    }
   ],
   "source": [
    "obj = main(0)\n",
    "print(obj())"
   ]
  },
  {
   "cell_type": "code",
   "execution_count": 4,
   "metadata": {},
   "outputs": [],
   "source": [
    "def hello():\n",
    "    print(\"Hello world\")\n",
    "\n",
    "def decorator(func):\n",
    "    def wrapper():\n",
    "        print(\"!!!!!! Before !!!!!!\")\n",
    "        func()\n",
    "        print(\"!!!!!! After !!!!!!\")\n",
    "    return wrapper\n",
    "\n",
    "\n",
    "def bye():\n",
    "    print(\"Bye world\")\n",
    "\n",
    "say_hello = decorator(hello)\n",
    "say_bye = decorator(bye)\n"
   ]
  },
  {
   "cell_type": "code",
   "execution_count": 5,
   "metadata": {},
   "outputs": [
    {
     "name": "stdout",
     "output_type": "stream",
     "text": [
      "!!!!!! Before !!!!!!\n",
      "Hello world\n",
      "!!!!!! After !!!!!!\n"
     ]
    }
   ],
   "source": [
    "say_hello()"
   ]
  },
  {
   "cell_type": "code",
   "execution_count": 6,
   "metadata": {},
   "outputs": [
    {
     "name": "stdout",
     "output_type": "stream",
     "text": [
      "!!!!!! Before !!!!!!\n",
      "Bye world\n",
      "!!!!!! After !!!!!!\n"
     ]
    }
   ],
   "source": [
    "say_bye()"
   ]
  },
  {
   "cell_type": "code",
   "execution_count": 14,
   "metadata": {},
   "outputs": [],
   "source": [
    "from datetime import datetime\n",
    "\n",
    "def decorator(func):\n",
    "    def wrapper():\n",
    "        print(f'Start: {datetime.now()}')\n",
    "        func()\n",
    "        print(f'End: {datetime.now()}')\n",
    "    return wrapper\n",
    "\n",
    "def build_list():\n",
    "    _list = []\n",
    "    for i in range(10_000_000):\n",
    "        _list.append(i)\n",
    "\n",
    "calculate_build_list = decorator(build_list)\n"
   ]
  },
  {
   "cell_type": "code",
   "execution_count": 15,
   "metadata": {},
   "outputs": [
    {
     "name": "stdout",
     "output_type": "stream",
     "text": [
      "Start: 2022-12-15 19:51:22.247232\n",
      "End: 2022-12-15 19:51:23.116057\n"
     ]
    }
   ],
   "source": [
    "calculate_build_list()"
   ]
  },
  {
   "cell_type": "code",
   "execution_count": 16,
   "metadata": {},
   "outputs": [],
   "source": [
    "from datetime import datetime\n",
    "\n",
    "def decorator(func):\n",
    "    def wrapper():\n",
    "        print(f'Start: {datetime.now()}')\n",
    "        func()\n",
    "        print(f'End: {datetime.now()}')\n",
    "    return wrapper\n",
    "\n",
    "\n",
    "@decorator\n",
    "def hello():\n",
    "    print(\"Hello world\")\n",
    "\n",
    "@decorator\n",
    "def bye():\n",
    "    print(\"bye world\")\n"
   ]
  },
  {
   "cell_type": "code",
   "execution_count": null,
   "metadata": {},
   "outputs": [],
   "source": []
  },
  {
   "cell_type": "code",
   "execution_count": 17,
   "metadata": {},
   "outputs": [
    {
     "name": "stdout",
     "output_type": "stream",
     "text": [
      "Hello world!\n",
      "Hello world!\n"
     ]
    }
   ],
   "source": [
    "def duplicate_exec(func):\n",
    "    def wrapper():\n",
    "        func()\n",
    "        func()\n",
    "    return wrapper\n",
    "\n",
    "\n",
    "@duplicate_exec\n",
    "def hello():\n",
    "\n",
    "    print(\"Hello world!\")\n",
    "\n",
    "# hello = duplicate_exec(hello)\n",
    "\n",
    "hello()\n"
   ]
  },
  {
   "cell_type": "code",
   "execution_count": 18,
   "metadata": {},
   "outputs": [],
   "source": [
    "def duplicate_exec(func):\n",
    "    def wrapper(*args, **kwargs):\n",
    "        func(*args, **kwargs)\n",
    "        func(*args, **kwargs)\n",
    "    return wrapper"
   ]
  },
  {
   "cell_type": "code",
   "execution_count": 20,
   "metadata": {},
   "outputs": [
    {
     "name": "stdout",
     "output_type": "stream",
     "text": [
      "Hello Sasha! Ukrainets\n",
      "Hello Sasha! Ukrainets\n"
     ]
    }
   ],
   "source": [
    "@duplicate_exec\n",
    "def hello(name, surname):\n",
    "    print(f\"Hello {name}!\", surname)\n",
    "\n",
    "hello('Sasha', 'Ukrainets')"
   ]
  },
  {
   "cell_type": "code",
   "execution_count": 21,
   "metadata": {},
   "outputs": [
    {
     "name": "stdout",
     "output_type": "stream",
     "text": [
      "Hello Sasha!\n",
      "Hello Sasha!\n"
     ]
    }
   ],
   "source": [
    "@duplicate_exec\n",
    "def hello(name):\n",
    "    print(f\"Hello {name}!\")\n",
    "\n",
    "hello('Sasha')"
   ]
  },
  {
   "attachments": {},
   "cell_type": "markdown",
   "metadata": {},
   "source": [
    "Task 1. Створити декоратор до функції hello. \n",
    "\n",
    "1 - випадок тільки імя на вхід, \n",
    "\n",
    "2- імя і призвіще, \n",
    "\n",
    "3 - випадок 2 + вік\n"
   ]
  },
  {
   "cell_type": "code",
   "execution_count": 10,
   "metadata": {},
   "outputs": [
    {
     "name": "stdout",
     "output_type": "stream",
     "text": [
      "Hello Natalia\n",
      "Koval 41\n",
      "Hello Natalia\n",
      "Koval 41\n"
     ]
    }
   ],
   "source": [
    "def duplicate_exec(func):\n",
    "    def wrapper(*args, **kwargs):\n",
    "        func(*args, **kwargs)\n",
    "        return func(*args, **kwargs)\n",
    "    return wrapper\n",
    "\n",
    "@duplicate_exec\n",
    "def hello(name, *arg):\n",
    "    print(f\"Hello {name}\")\n",
    "    print(*arg)\n",
    "\n",
    "hello('Natalia', 'Koval', '41')"
   ]
  },
  {
   "cell_type": "code",
   "execution_count": null,
   "metadata": {},
   "outputs": [],
   "source": []
  },
  {
   "cell_type": "code",
   "execution_count": null,
   "metadata": {},
   "outputs": [],
   "source": []
  }
 ],
 "metadata": {
  "kernelspec": {
   "display_name": "Python 3",
   "language": "python",
   "name": "python3"
  },
  "language_info": {
   "codemirror_mode": {
    "name": "ipython",
    "version": 3
   },
   "file_extension": ".py",
   "mimetype": "text/x-python",
   "name": "python",
   "nbconvert_exporter": "python",
   "pygments_lexer": "ipython3",
   "version": "3.11.0 (main, Oct 24 2022, 18:26:48) [MSC v.1933 64 bit (AMD64)]"
  },
  "orig_nbformat": 4,
  "vscode": {
   "interpreter": {
    "hash": "62f0e375c05dd1abdca7e10f6ad51ff13f54c7e8161bfb558a0156d57f0da09f"
   }
  }
 },
 "nbformat": 4,
 "nbformat_minor": 2
}
