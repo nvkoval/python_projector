{
 "cells": [
  {
   "cell_type": "code",
   "execution_count": 1,
   "metadata": {},
   "outputs": [
    {
     "name": "stdout",
     "output_type": "stream",
     "text": [
      "Parameters of open file  \n",
      "File name: hello.txt\n",
      "File encoding: cp1251\n",
      "File mode w\n"
     ]
    }
   ],
   "source": [
    "file = open(\"hello.txt\", mode=\"w\") #\n",
    "print(f'Parameters of open file  \\nFile name: {file.name}\\nFile encoding: {file.encoding}\\nFile mode {file.mode}')"
   ]
  },
  {
   "cell_type": "code",
   "execution_count": 2,
   "metadata": {},
   "outputs": [],
   "source": [
    "file.write('Hello World!') # Повертає кількість добавлених символів\n",
    "file.close()"
   ]
  },
  {
   "cell_type": "code",
   "execution_count": 3,
   "metadata": {},
   "outputs": [],
   "source": [
    "file = open(\"file.txt\", \"w\")\n",
    "\n",
    "try:\n",
    "    file.write(\"Hello, World!\")\n",
    "except Exception as e:\n",
    "    print(f\"Error: {e}\")\n",
    "finally:\n",
    "    file.close()"
   ]
  },
  {
   "cell_type": "code",
   "execution_count": 4,
   "metadata": {},
   "outputs": [],
   "source": [
    "with open('file.txt', 'w') as file:\n",
    "    file.write('OLA')"
   ]
  },
  {
   "cell_type": "code",
   "execution_count": 5,
   "metadata": {},
   "outputs": [
    {
     "name": "stdout",
     "output_type": "stream",
     "text": [
      "0.3333333333333333333333333333\n",
      "0.3333\n",
      "0.3333333333333333333333333333\n"
     ]
    }
   ],
   "source": [
    "from decimal import Decimal, localcontext\n",
    "\n",
    "print(Decimal('1.00') / Decimal('3.00'))\n",
    "\n",
    "with localcontext() as ctx:\n",
    "    ctx.prec = 4\n",
    "    print(Decimal('1.00') / Decimal('3.00'))\n",
    "\n",
    "print(Decimal('1.00') / Decimal('3.00'))"
   ]
  },
  {
   "attachments": {},
   "cell_type": "markdown",
   "metadata": {},
   "source": [
    "Task 1. Створити input.txt - заповнити його значенням - [Input text, try to read me]"
   ]
  },
  {
   "cell_type": "code",
   "execution_count": 6,
   "metadata": {},
   "outputs": [],
   "source": [
    "with open('input.txt', 'w') as file:\n",
    "    file.write('Input text, try to read me')"
   ]
  },
  {
   "attachments": {},
   "cell_type": "markdown",
   "metadata": {},
   "source": [
    "Task 2. Створити output.txt - заповнити його значенням - ['Try to rewrite me']\n"
   ]
  },
  {
   "cell_type": "code",
   "execution_count": 7,
   "metadata": {},
   "outputs": [],
   "source": [
    "file = open('output.txt', 'w')\n",
    "file.write('Try to rewrite me')\n",
    "file.close()"
   ]
  },
  {
   "cell_type": "code",
   "execution_count": 8,
   "metadata": {},
   "outputs": [],
   "source": [
    "with open('output.txt', 'w') as file:\n",
    "    file.write('Input text, try to read me')"
   ]
  },
  {
   "cell_type": "code",
   "execution_count": 9,
   "metadata": {},
   "outputs": [],
   "source": [
    "with open('input.txt', 'w') as input, open('output.txt', 'w') as output:\n",
    "    input.write('Input text, try to read me')\n",
    "    output.write('Try to rewrite me')"
   ]
  },
  {
   "cell_type": "code",
   "execution_count": 10,
   "metadata": {},
   "outputs": [],
   "source": [
    "with open('input.txt', 'r') as input_file, open('output.txt', 'w') as output_file:\n",
    "    data = input_file.read()\n",
    "    output_file.write(data)"
   ]
  },
  {
   "cell_type": "code",
   "execution_count": 11,
   "metadata": {},
   "outputs": [],
   "source": [
    "data = '''\n",
    "Nowadays, with all these data we consume and generate every single day, algorithms must be good enough to handle operations in large volumes of data.\n",
    "In this post, we will understand a little more about time complexity, Big-O notation and why we need to be concerned about it when developing algorithms.\n",
    "'''\n",
    "with open('existing_file.txt', mode = 'w') as file:\n",
    "    text = file.write(data)"
   ]
  },
  {
   "cell_type": "code",
   "execution_count": 12,
   "metadata": {},
   "outputs": [
    {
     "name": "stdout",
     "output_type": "stream",
     "text": [
      "\n",
      "Nowadays, with all these data we consume and generate every single day, algorithms must be good enough to handle operations in large volumes of data.\n",
      "In this post, we will understand a little more about time complexity, Big-O notation and why we need to be concerned about it when developing algorithms.\n",
      "\n"
     ]
    }
   ],
   "source": [
    "with open('existing_file.txt', 'r') as file:\n",
    "    text = file.read()\n",
    "    print(text)"
   ]
  },
  {
   "cell_type": "code",
   "execution_count": 13,
   "metadata": {},
   "outputs": [
    {
     "data": {
      "text/plain": [
       "'\\nNowadays, with all these data we consume and generate every single day, algorithms must be good enough to handle operations in large volumes of data.\\nIn this post, we will understand a little more about time complexity, Big-O notation and why we need to be concerned about it when developing algorithms.\\n'"
      ]
     },
     "execution_count": 13,
     "metadata": {},
     "output_type": "execute_result"
    }
   ],
   "source": [
    "text"
   ]
  },
  {
   "cell_type": "code",
   "execution_count": 14,
   "metadata": {},
   "outputs": [
    {
     "name": "stdout",
     "output_type": "stream",
     "text": [
      "\n",
      "\n",
      "Nowadays, with all these data we consume and generate every single day, algorithms must be good enough to handle operations in large volumes of data.\n",
      "\n",
      "In this post, we will understand a little more about time complexity, Big-O notation and why we need to be concerned about it when developing algorithms.\n",
      "\n"
     ]
    }
   ],
   "source": [
    "with open('existing_file.txt', 'r') as file:\n",
    "    for line in file:\n",
    "        print(line) # How to solve problem?\n"
   ]
  },
  {
   "cell_type": "code",
   "execution_count": 15,
   "metadata": {},
   "outputs": [
    {
     "name": "stdout",
     "output_type": "stream",
     "text": [
      "['\\n', 'Nowadays, with all these data we consume and generate every single day, algorithms must be good enough to handle operations in large volumes of data.\\n', 'In this post, we will understand a little more about time complexity, Big-O notation and why we need to be concerned about it when developing algorithms.\\n']\n"
     ]
    }
   ],
   "source": [
    "with open('existing_file.txt', 'r') as file:\n",
    "    print(file.readlines())"
   ]
  },
  {
   "cell_type": "code",
   "execution_count": 16,
   "metadata": {},
   "outputs": [
    {
     "name": "stdout",
     "output_type": "stream",
     "text": [
      "\n",
      "\n",
      "Nowadays, with all these data we consume and generate every single day, algorithms must be good enough to handle operations in large volumes of data.\n",
      "\n"
     ]
    }
   ],
   "source": [
    "with open('existing_file.txt', 'r') as file:\n",
    "    print(file.readline())\n",
    "    print(file.readline())"
   ]
  },
  {
   "cell_type": "code",
   "execution_count": 17,
   "metadata": {},
   "outputs": [],
   "source": [
    "with open('file1.txt', 'w') as file:\n",
    "    file.write('”I have great faith in fools — self-confidence my friends call it.”\\n')"
   ]
  },
  {
   "cell_type": "code",
   "execution_count": 18,
   "metadata": {},
   "outputs": [],
   "source": [
    "with open('file1.txt', 'w') as file:\n",
    "    file.write('End of the file') # Що буде в файлі?"
   ]
  },
  {
   "attachments": {},
   "cell_type": "markdown",
   "metadata": {},
   "source": [
    "Додати нову строку до кінця файлу file1.txt\n",
    "\n",
    "\\n“Either define the moment or the moment will define you.”\n"
   ]
  },
  {
   "cell_type": "code",
   "execution_count": 19,
   "metadata": {},
   "outputs": [],
   "source": [
    "with open('file1.txt', 'a') as file:\n",
    "    file.write('\\n\"Either define the moment or the moment will define you.\"')\n"
   ]
  },
  {
   "cell_type": "code",
   "execution_count": 20,
   "metadata": {},
   "outputs": [],
   "source": [
    "second_coming = [\n",
    "    'Turning and turning in the widening gyre\\n',\n",
    "    'The falcon cannot hear the falconer;\\n',\n",
    "    'Things fall apart; the centre cannot hold;\\n',\n",
    "    'Mere anarchy is loosed upon the world,\\n',\n",
    "    'The blood-dimmed tide is loosed, and everywhere\\n',  \n",
    "    'The ceremony of innocence is drowned;\\n',\n",
    "    'The best lack all conviction, while the worst\\n',\n",
    "    'Are full of passionate intensity.\\n',\n",
    "]\n",
    "\n",
    "with open('new_file.txt', mode=\"w\", encoding=\"utf-8\") as file:\n",
    "    file.writelines(second_coming) # Запис построчно\n"
   ]
  },
  {
   "attachments": {},
   "cell_type": "markdown",
   "metadata": {},
   "source": [
    "Write a program that generate 26 text files named A.txt, B.txt, and so on up to Z.txt.\n",
    "To each file append a random number between 1 and 100.\n"
   ]
  },
  {
   "cell_type": "code",
   "execution_count": 21,
   "metadata": {},
   "outputs": [
    {
     "ename": "OSError",
     "evalue": "[WinError 6] Неверный дескриптор",
     "output_type": "error",
     "traceback": [
      "\u001b[1;31m---------------------------------------------------------------------------\u001b[0m",
      "\u001b[1;31mOSError\u001b[0m                                   Traceback (most recent call last)",
      "Cell \u001b[1;32mIn [21], line 3\u001b[0m\n\u001b[0;32m      1\u001b[0m \u001b[39mimport\u001b[39;00m \u001b[39mrandom\u001b[39;00m\n\u001b[0;32m      2\u001b[0m \u001b[39mfor\u001b[39;00m i \u001b[39min\u001b[39;00m \u001b[39mrange\u001b[39m(\u001b[39mord\u001b[39m(\u001b[39m'\u001b[39m\u001b[39mA\u001b[39m\u001b[39m'\u001b[39m), \u001b[39mord\u001b[39m(\u001b[39m'\u001b[39m\u001b[39mZ\u001b[39m\u001b[39m'\u001b[39m) \u001b[39m+\u001b[39m \u001b[39m1\u001b[39m):\n\u001b[1;32m----> 3\u001b[0m     \u001b[39mwith\u001b[39;00m \u001b[39mopen\u001b[39;49m(i, \u001b[39m'\u001b[39;49m\u001b[39mw\u001b[39;49m\u001b[39m'\u001b[39;49m) \u001b[39mas\u001b[39;00m file:\n\u001b[0;32m      4\u001b[0m         file\u001b[39m.\u001b[39mwrite(random\u001b[39m.\u001b[39mrandint(\u001b[39m1\u001b[39m, \u001b[39m101\u001b[39m))\n",
      "File \u001b[1;32m~\\AppData\\Roaming\\Python\\Python311\\site-packages\\IPython\\core\\interactiveshell.py:282\u001b[0m, in \u001b[0;36m_modified_open\u001b[1;34m(file, *args, **kwargs)\u001b[0m\n\u001b[0;32m    275\u001b[0m \u001b[39mif\u001b[39;00m file \u001b[39min\u001b[39;00m {\u001b[39m0\u001b[39m, \u001b[39m1\u001b[39m, \u001b[39m2\u001b[39m}:\n\u001b[0;32m    276\u001b[0m     \u001b[39mraise\u001b[39;00m \u001b[39mValueError\u001b[39;00m(\n\u001b[0;32m    277\u001b[0m         \u001b[39mf\u001b[39m\u001b[39m\"\u001b[39m\u001b[39mIPython won\u001b[39m\u001b[39m'\u001b[39m\u001b[39mt let you open fd=\u001b[39m\u001b[39m{\u001b[39;00mfile\u001b[39m}\u001b[39;00m\u001b[39m by default \u001b[39m\u001b[39m\"\u001b[39m\n\u001b[0;32m    278\u001b[0m         \u001b[39m\"\u001b[39m\u001b[39mas it is likely to crash IPython. If you know what you are doing, \u001b[39m\u001b[39m\"\u001b[39m\n\u001b[0;32m    279\u001b[0m         \u001b[39m\"\u001b[39m\u001b[39myou can use builtins\u001b[39m\u001b[39m'\u001b[39m\u001b[39m open.\u001b[39m\u001b[39m\"\u001b[39m\n\u001b[0;32m    280\u001b[0m     )\n\u001b[1;32m--> 282\u001b[0m \u001b[39mreturn\u001b[39;00m io_open(file, \u001b[39m*\u001b[39;49margs, \u001b[39m*\u001b[39;49m\u001b[39m*\u001b[39;49mkwargs)\n",
      "\u001b[1;31mOSError\u001b[0m: [WinError 6] Неверный дескриптор"
     ]
    }
   ],
   "source": [
    "import random\n",
    "for i in range(ord('A'), ord('Z') + 1):\n",
    "    with open(i, 'w') as file:\n",
    "        file.write(random.randint(1, 101))"
   ]
  },
  {
   "cell_type": "code",
   "execution_count": null,
   "metadata": {},
   "outputs": [],
   "source": []
  },
  {
   "cell_type": "code",
   "execution_count": null,
   "metadata": {},
   "outputs": [],
   "source": [
    "import csv # Модуль для роботи з Comma Separeted Value"
   ]
  },
  {
   "cell_type": "code",
   "execution_count": null,
   "metadata": {},
   "outputs": [],
   "source": [
    "countries = [\n",
    "    ['Kyiv', 42_000_000, 603_000, 'Ukraine'],\n",
    "    ['Warsaw', 38_000_000, 312_000, 'Poland'],\n",
    "    ['Washington', 520_000_000, 5_500_000, 'USA'],\n",
    "    ['Paris', 67_000_000, 592_000, 'France'],\n",
    "]"
   ]
  },
  {
   "cell_type": "code",
   "execution_count": null,
   "metadata": {},
   "outputs": [],
   "source": [
    "with open('countries.csv', 'w') as file:\n",
    "    writer = csv.writer(file, delimiter=';') # enter you delimeter\n",
    "    for country in countries:\n",
    "        writer.writerow(country)"
   ]
  },
  {
   "attachments": {},
   "cell_type": "markdown",
   "metadata": {},
   "source": [
    "Task 2. Enter in csv file in first_row next_value ['Capital', 'Population', 'Square', 'Country']"
   ]
  },
  {
   "cell_type": "code",
   "execution_count": null,
   "metadata": {},
   "outputs": [],
   "source": [
    "header = ['Capital', 'Population', 'Square', 'Country']\n",
    "\n",
    "with open('countries.csv', 'w') as file:\n",
    "    writer = csv.writer(file, )\n",
    "    for country in countries:\n",
    "        writer.writerow(header)\n",
    "        writer.writerow(countries)"
   ]
  },
  {
   "cell_type": "code",
   "execution_count": null,
   "metadata": {},
   "outputs": [
    {
     "name": "stdout",
     "output_type": "stream",
     "text": [
      "['Capital', 'Population', 'Square', 'Country']\n",
      "[]\n",
      "[\"['Kyiv', 42000000, 603000, 'Ukraine']\", \"['Warsaw', 38000000, 312000, 'Poland']\", \"['Washington', 520000000, 5500000, 'USA']\", \"['Paris', 67000000, 592000, 'France']\"]\n",
      "[]\n",
      "['Capital', 'Population', 'Square', 'Country']\n",
      "[]\n",
      "[\"['Kyiv', 42000000, 603000, 'Ukraine']\", \"['Warsaw', 38000000, 312000, 'Poland']\", \"['Washington', 520000000, 5500000, 'USA']\", \"['Paris', 67000000, 592000, 'France']\"]\n",
      "[]\n",
      "['Capital', 'Population', 'Square', 'Country']\n",
      "[]\n",
      "[\"['Kyiv', 42000000, 603000, 'Ukraine']\", \"['Warsaw', 38000000, 312000, 'Poland']\", \"['Washington', 520000000, 5500000, 'USA']\", \"['Paris', 67000000, 592000, 'France']\"]\n",
      "[]\n",
      "['Capital', 'Population', 'Square', 'Country']\n",
      "[]\n",
      "[\"['Kyiv', 42000000, 603000, 'Ukraine']\", \"['Warsaw', 38000000, 312000, 'Poland']\", \"['Washington', 520000000, 5500000, 'USA']\", \"['Paris', 67000000, 592000, 'France']\"]\n",
      "[]\n"
     ]
    }
   ],
   "source": [
    "with open('countries.csv', mode='r') as file:\n",
    "    reader = csv.reader(file)\n",
    "    for row in reader:\n",
    "        print(row)"
   ]
  },
  {
   "cell_type": "code",
   "execution_count": null,
   "metadata": {},
   "outputs": [],
   "source": [
    "with open('countries_2.csv', mode='w') as file:\n",
    "    fieldnames = ['Capital', 'Population', 'Area', 'Name']\n",
    "    writer = csv.DictWriter(file, fieldnames=fieldnames)\n",
    "\n",
    "    writer.writeheader()\n",
    "    writer.writerow({'Capital': 'Kyiv', 'Population': 42_000_000, 'Area': 603_000, 'Name': 'Ukraine'})\n",
    "    writer.writerow({'Capital': 'Warsaw', 'Population': 38_000_000, 'Area': 312_000, 'Name': 'Poland'})\n",
    "    writer.writerow({'Capital': 'Washington', 'Population': 520_000_000, 'Area': 5_500_000, 'Name': 'USA'})\n",
    "    writer.writerow({'Capital': 'Paris', 'Population': 67_000_000, 'Area': 592_000, 'Name': 'France'})"
   ]
  },
  {
   "cell_type": "code",
   "execution_count": null,
   "metadata": {},
   "outputs": [],
   "source": [
    "countries = [\n",
    "    {'Capital': 'Kyiv', 'Population': 42_000_000, 'Area': 603_000, 'Name': 'Ukraine'},\n",
    "    {'Capital': 'Warsaw', 'Population': 38_000_000, 'Area': 312_000, 'Name': 'Poland'},\n",
    "    {'Capital': 'Washington', 'Population': 520_000_000, 'Area': 5_500_000, 'Name': 'USA'},\n",
    "    {'Capital': 'Paris', 'Population': 67_000_000, 'Area': 592_000, 'Name': 'France'},\n",
    "    {'Capital': 'Paris', 'Population': 67_000_000, 'Name': 'France', },\n",
    "]\n",
    "header = ['Capital', 'Population', 'Area', 'Name' ]\n",
    "with open('countries.csv', mode='w') as file:\n",
    "    writer = csv.DictWriter(file, fieldnames=header)\n",
    "\n",
    "    writer.writeheader()\n",
    "    writer.writerows(countries)\n"
   ]
  },
  {
   "cell_type": "code",
   "execution_count": null,
   "metadata": {},
   "outputs": [
    {
     "name": "stdout",
     "output_type": "stream",
     "text": [
      "['Capital', 'Population', 'Area', 'Name']\n",
      "{'Capital': 'Kyiv', 'Population': '42000000', 'Area': '603000', 'Name': 'Ukraine'}\n",
      "{'Capital': 'Warsaw', 'Population': '38000000', 'Area': '312000', 'Name': 'Poland'}\n",
      "{'Capital': 'Washington', 'Population': '520000000', 'Area': '5500000', 'Name': 'USA'}\n",
      "{'Capital': 'Paris', 'Population': '67000000', 'Area': '592000', 'Name': 'France'}\n",
      "{'Capital': 'Paris', 'Population': '67000000', 'Area': '', 'Name': 'France'}\n"
     ]
    }
   ],
   "source": [
    "with open('countries.csv', mode='r') as file:\n",
    "    reader = csv.DictReader(file)\n",
    "    print(reader.fieldnames)\n",
    "    for row in reader:\n",
    "        print(row)"
   ]
  },
  {
   "cell_type": "code",
   "execution_count": null,
   "metadata": {},
   "outputs": [],
   "source": []
  },
  {
   "cell_type": "code",
   "execution_count": null,
   "metadata": {},
   "outputs": [],
   "source": []
  },
  {
   "cell_type": "code",
   "execution_count": 24,
   "metadata": {},
   "outputs": [
    {
     "name": "stdout",
     "output_type": "stream",
     "text": [
      "['Kyiv;42000000;603000;Ukraine']\n",
      "['Warsaw;38000000;312000;Poland']\n",
      "['Washington;520000000;5500000;USA']\n",
      "['Paris;67000000;592000;France']\n"
     ]
    }
   ],
   "source": [
    "import csv\n",
    "\n",
    "countries = [\n",
    "    ['Kyiv', 42_000_000, 603_000, 'Ukraine'],\n",
    "    ['Warsaw', 38_000_000, 312_000, 'Poland'],\n",
    "    ['Washington', 520_000_000, 5_500_000, 'USA'],\n",
    "    ['Paris', 67_000_000, 592_000, 'France'],\n",
    "]\n",
    "\n",
    "with open('countries.csv', 'w', newline='') as file:\n",
    "    writer = csv.writer(file, delimiter=';') # enter you delimiter\n",
    "    for country in countries:\n",
    "        writer.writerow(country)\n",
    "\n",
    "# How to read, we need to use dot-notation.reader\n",
    "with open('countries.csv', mode='r') as file:\n",
    "    reader = csv.reader(file)\n",
    "    for row in reader:\n",
    "        print(row)"
   ]
  }
 ],
 "metadata": {
  "kernelspec": {
   "display_name": "Python 3",
   "language": "python",
   "name": "python3"
  },
  "language_info": {
   "codemirror_mode": {
    "name": "ipython",
    "version": 3
   },
   "file_extension": ".py",
   "mimetype": "text/x-python",
   "name": "python",
   "nbconvert_exporter": "python",
   "pygments_lexer": "ipython3",
   "version": "3.11.0 (main, Oct 24 2022, 18:26:48) [MSC v.1933 64 bit (AMD64)]"
  },
  "orig_nbformat": 4,
  "vscode": {
   "interpreter": {
    "hash": "62f0e375c05dd1abdca7e10f6ad51ff13f54c7e8161bfb558a0156d57f0da09f"
   }
  }
 },
 "nbformat": 4,
 "nbformat_minor": 2
}
