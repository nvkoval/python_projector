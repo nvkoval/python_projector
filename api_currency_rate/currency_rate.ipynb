{
 "cells": [
  {
   "attachments": {},
   "cell_type": "markdown",
   "metadata": {},
   "source": [
    "Вивезти з API(приватбанка) курс валют для:\n",
    "\n",
    "1. USA\n",
    "2. EURO\n",
    "3. GBR\n",
    "4. PLN\n",
    "5. Свою валюту (чеська крона)\n",
    "\n",
    "- Написати Test\n",
    "- Вивезти курс валюти від користувача\n",
    "- Робити перевірки на status code\n",
    "- Написати це функцією\n",
    "- Залити на git(flake8 use, requirments, config.cfg)"
   ]
  },
  {
   "cell_type": "code",
   "execution_count": null,
   "metadata": {},
   "outputs": [],
   "source": [
    "import requests"
   ]
  },
  {
   "cell_type": "code",
   "execution_count": null,
   "metadata": {},
   "outputs": [],
   "source": [
    "currency = input('Input currence code (USD, EUR, GBP, PLN, CZK): ')"
   ]
  },
  {
   "cell_type": "code",
   "execution_count": null,
   "metadata": {},
   "outputs": [],
   "source": [
    "def resp_status_code(resp):\n",
    "    match resp.status_code:\n",
    "        case 200:\n",
    "            return 'It\\'s OK'\n",
    "        case 429:\n",
    "            return 'Try again'\n",
    "        case _:\n",
    "            return resp.status_code"
   ]
  },
  {
   "cell_type": "code",
   "execution_count": null,
   "metadata": {},
   "outputs": [],
   "source": [
    "def excahnge_rates_privat(currency: str) -> str:\n",
    "    my_currencies = {\n",
    "        'USD': 'USA',\n",
    "        'EUR': 'EU',\n",
    "        'GBP': 'GBR',\n",
    "        'PLN': 'Poland',\n",
    "        'CZK': 'Czech Republic',\n",
    "        }\n",
    "    if currency.upper() in my_currencies.keys():\n",
    "        resp = requests.get('https://api.privatbank.ua/p24api/exchange_rates?json&date=08.12.2022')\n",
    "        resp_status_code(resp)\n",
    "        for obj in resp.json()['exchangeRate']:\n",
    "            if obj['currency'] == currency.upper():\n",
    "                return (f\"Країна: {my_currencies[obj['currency']]}  Купівля: {obj['purchaseRate']} Продаж: {obj['saleRate']}\")\n",
    "    return 'Bad input'"
   ]
  },
  {
   "cell_type": "code",
   "execution_count": null,
   "metadata": {},
   "outputs": [],
   "source": [
    "def test_excahnge_rates_privat():\n",
    "    assert excahnge_rates_privat('') == 'Bad input'\n",
    "\n",
    "    assert excahnge_rates_privat(' ') == 'Bad input'\n",
    "\n",
    "    assert excahnge_rates_privat('usd') == 'Країна: USA  Купівля: 39.2 Продаж: 39.7'\n",
    "\n",
    "    assert excahnge_rates_privat('EUR') == 'Країна: EU  Купівля: 40.5 Продаж: 41.5'\n",
    "\n",
    "    assert excahnge_rates_privat('GBp') == 'Країна: GBR  Купівля: 44.64 Продаж: 48.53'\n",
    "\n",
    "    assert excahnge_rates_privat('Pln') == 'Країна: Poland  Купівля: 8.19 Продаж: 8.91'\n",
    "\n",
    "    assert excahnge_rates_privat('czk') == 'Країна: Czech Republic  Купівля: 1.58 Продаж: 1.72'"
   ]
  }
 ],
 "metadata": {
  "kernelspec": {
   "display_name": "Python 3",
   "language": "python",
   "name": "python3"
  },
  "language_info": {
   "codemirror_mode": {
    "name": "ipython",
    "version": 3
   },
   "file_extension": ".py",
   "mimetype": "text/x-python",
   "name": "python",
   "nbconvert_exporter": "python",
   "pygments_lexer": "ipython3",
   "version": "3.10.10"
  },
  "orig_nbformat": 4,
  "vscode": {
   "interpreter": {
    "hash": "62f0e375c05dd1abdca7e10f6ad51ff13f54c7e8161bfb558a0156d57f0da09f"
   }
  }
 },
 "nbformat": 4,
 "nbformat_minor": 2
}
